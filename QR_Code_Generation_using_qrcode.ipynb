{
 "cells": [
  {
   "cell_type": "markdown",
   "metadata": {
    "id": "8L_bgjDUXjJ1"
   },
   "source": [
    "# Introduction"
   ]
  },
  {
   "cell_type": "markdown",
   "metadata": {
    "id": "NZRbSgRwXwRa"
   },
   "source": [
    "**QR code stands for Quick Response Code.** QR codes may look simple but they are capable of storing lots of data. Irrespective of how much data they contain when scanned QR code allows the user to access information instantly. That is why they are called Quick Response Code.\n",
    "\n",
    "These are being used in many scenarios these days. It first appeared in Japan in 1994. QR codes can be used to store(encode) lots of data and that too of various types. For example, they can be used to encode:\n",
    "\n",
    "- Contact details.\n",
    "- Facebook id's, Instagram id's, Twitter id's, WhatsApp id's and more.\n",
    "- Event Details.\n",
    "- Youtube links.\n",
    "- Product details.\n",
    "- Link directly to download an app on the Apple App Store or Google Play Store.\n",
    "- They are also being used in doing digital transactions by simply scanning QR codes for payments.\n",
    "- Access Wi-Fi by storing encryption details such as SSID, password and other encryption type.\n",
    "\n",
    "This list goes on….!"
   ]
  },
  {
   "cell_type": "code",
   "execution_count": null,
   "metadata": {
    "colab": {
     "base_uri": "https://localhost:8080/"
    },
    "id": "0sj24cceXUag",
    "outputId": "961f4f39-8546-4018-b9a4-08d5b4532edd"
   },
   "outputs": [
    {
     "name": "stdout",
     "output_type": "stream",
     "text": [
      "Collecting qrcode[pil]\n",
      "  Downloading qrcode-7.3.1.tar.gz (43 kB)\n",
      "\u001b[K     |████████████████████████████████| 43 kB 1.3 MB/s \n",
      "\u001b[?25hRequirement already satisfied: pillow in /usr/local/lib/python3.7/dist-packages (from qrcode[pil]) (7.1.2)\n",
      "Building wheels for collected packages: qrcode\n",
      "  Building wheel for qrcode (setup.py) ... \u001b[?25l\u001b[?25hdone\n",
      "  Created wheel for qrcode: filename=qrcode-7.3.1-py3-none-any.whl size=40402 sha256=98487916787db993cc65af7a189b143ec19f8fe7f15a04001978d352ea1f381b\n",
      "  Stored in directory: /root/.cache/pip/wheels/93/d7/39/a4111be2cfb8e679938aa671a37888b6afb1f9e7d748e94492\n",
      "Successfully built qrcode\n",
      "Installing collected packages: qrcode\n",
      "Successfully installed qrcode-7.3.1\n"
     ]
    }
   ],
   "source": [
    "!pip install qrcode[pil]\n",
    "\n",
    "import qrcode\n",
    "img = qrcode.make(\"https://www.youtube.com/\")\n",
    "img.save(\"YouTube_QRcode.jpg\")"
   ]
  },
  {
   "cell_type": "code",
   "execution_count": null,
   "metadata": {
    "colab": {
     "base_uri": "https://localhost:8080/",
     "height": 347
    },
    "id": "t65EJrf4Z8Ov",
    "outputId": "e6873ce4-b2d1-44d3-d2d5-9efd48224a01"
   },
   "outputs": [
    {
     "data": {
      "image/png": "[encoded data removed]",
      "text/plain": [
       "<qrcode.image.pil.PilImage at 0x7f61864e3390>"
      ]
     },
     "execution_count": 3,
     "metadata": {},
     "output_type": "execute_result"
    }
   ],
   "source": [
    "img # This is QR Code for a web link"
   ]
  },
  {
   "cell_type": "code",
   "execution_count": null,
   "metadata": {
    "id": "un5DjxWPam0A"
   },
   "outputs": [],
   "source": [
    "fig = qrcode.make(\"My name is Sweta Rai and India is my country.\")\n",
    "fig.save(\"Words_QRcode.jpg\")"
   ]
  },
  {
   "cell_type": "code",
   "execution_count": null,
   "metadata": {
    "colab": {
     "base_uri": "https://localhost:8080/",
     "height": 427
    },
    "id": "dHxArohtb0H7",
    "outputId": "7c37d6d4-2ad5-4ed8-b9a1-fe9c03a0d6dc"
   },
   "outputs": [
    {
     "data": {
      "image/png": "[encoded data removed]",
      "text/plain": [
       "<qrcode.image.pil.PilImage at 0x7f615f38f390>"
      ]
     },
     "execution_count": 5,
     "metadata": {},
     "output_type": "execute_result"
    }
   ],
   "source": [
    "fig # This is a QR Code for a sentence"
   ]
  },
  {
   "cell_type": "code",
   "execution_count": null,
   "metadata": {
    "colab": {
     "base_uri": "https://localhost:8080/"
    },
    "id": "wtORGkhJb19h",
    "outputId": "237d49bd-19e6-4105-c0c3-40150173b8f8"
   },
   "outputs": [
    {
     "name": "stdout",
     "output_type": "stream",
     "text": [
      "Requirement already satisfied: opencv-python in /usr/local/lib/python3.7/dist-packages (4.1.2.30)\n",
      "Requirement already satisfied: numpy>=1.14.5 in /usr/local/lib/python3.7/dist-packages (from opencv-python) (1.19.5)\n",
      "Decoded QR text is: My name is Sweta Rai and India is my country.\n"
     ]
    }
   ],
   "source": [
    "!pip install opencv-python\n",
    "import cv2\n",
    "\n",
    "d = cv2.QRCodeDetector()\n",
    "val, _, _ = d.detectAndDecode(cv2.imread(\"Words_QRcode.jpg\"))\n",
    "\n",
    "print(\"Decoded QR text is:\", val) # Decoding the previously generated QR Code using Computer Vision"
   ]
  }
 ],
 "metadata": {
  "colab": {
   "collapsed_sections": [],
   "name": "QR Code Generation using qrcode.ipynb",
   "provenance": []
  },
  "kernelspec": {
   "display_name": "Python 3",
   "language": "python",
   "name": "python3"
  },
  "language_info": {
   "codemirror_mode": {
    "name": "ipython",
    "version": 3
   },
   "file_extension": ".py",
   "mimetype": "text/x-python",
   "name": "python",
   "nbconvert_exporter": "python",
   "pygments_lexer": "ipython3",
   "version": "3.8.8"
  }
 },
 "nbformat": 4,
 "nbformat_minor": 1
}
