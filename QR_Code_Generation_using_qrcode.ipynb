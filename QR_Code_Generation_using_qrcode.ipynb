{
 "cells": [
  {
   "cell_type": "markdown",
   "metadata": {
    "id": "8L_bgjDUXjJ1"
   },
   "source": [
    "# Introduction"
   ]
  },
  {
   "cell_type": "markdown",
   "metadata": {
    "id": "NZRbSgRwXwRa"
   },
   "source": [
    "**QR code stands for Quick Response Code.** QR codes may look simple but they are capable of storing lots of data. Irrespective of how much data they contain when scanned QR code allows the user to access information instantly. That is why they are called Quick Response Code.\n",
    "\n",
    "These are being used in many scenarios these days. It first appeared in Japan in 1994. QR codes can be used to store(encode) lots of data and that too of various types. For example, they can be used to encode:\n",
    "\n",
    "- Contact details.\n",
    "- Facebook id's, Instagram id's, Twitter id's, WhatsApp id's and more.\n",
    "- Event Details.\n",
    "- Youtube links.\n",
    "- Product details.\n",
    "- Link directly to download an app on the Apple App Store or Google Play Store.\n",
    "- They are also being used in doing digital transactions by simply scanning QR codes for payments.\n",
    "- Access Wi-Fi by storing encryption details such as SSID, password and other encryption type.\n",
    "\n",
    "This list goes on….!"
   ]
  },
  {
   "cell_type": "code",
   "execution_count": 1,
   "metadata": {
    "colab": {
     "base_uri": "https://localhost:8080/"
    },
    "id": "0sj24cceXUag",
    "outputId": "961f4f39-8546-4018-b9a4-08d5b4532edd"
   },
   "outputs": [
    {
     "name": "stdout",
     "output_type": "stream",
     "text": [
      "Collecting qrcode[pil]\n",
      "  Downloading qrcode-7.3.1.tar.gz (43 kB)\n",
      "Requirement already satisfied: colorama in c:\\users\\mum1user\\anaconda3\\lib\\site-packages (from qrcode[pil]) (0.4.4)\n",
      "Requirement already satisfied: pillow in c:\\users\\mum1user\\anaconda3\\lib\\site-packages (from qrcode[pil]) (9.0.1)\n",
      "Building wheels for collected packages: qrcode\n",
      "  Building wheel for qrcode (setup.py): started\n",
      "  Building wheel for qrcode (setup.py): finished with status 'done'\n",
      "  Created wheel for qrcode: filename=qrcode-7.3.1-py3-none-any.whl size=40401 sha256=fb10ddb0077d41a92132296d6bcc49413e521f2fd899ee882bb6555032cce659\n",
      "  Stored in directory: c:\\users\\mum1user\\appdata\\local\\pip\\cache\\wheels\\93\\54\\16\\55cec87f8d902ed84b94ab8fdb7e89ae1158c06e130bc83b03\n",
      "Successfully built qrcode\n",
      "Installing collected packages: qrcode\n",
      "Successfully installed qrcode-7.3.1\n"
     ]
    }
   ],
   "source": [
    "!pip install qrcode[pil]\n",
    "\n",
    "import qrcode\n",
    "img = qrcode.make(\"https://www.youtube.com/\")\n",
    "img.save(\"YouTube_QRcode.jpg\")"
   ]
  },
  {
   "cell_type": "code",
   "execution_count": 2,
   "metadata": {
    "colab": {
     "base_uri": "https://localhost:8080/",
     "height": 347
    },
    "id": "t65EJrf4Z8Ov",
    "outputId": "e6873ce4-b2d1-44d3-d2d5-9efd48224a01"
   },
   "outputs": [
    {
     "data": {
      "image/png": "[encoded data removed]",
      "text/plain": [
       "<qrcode.image.pil.PilImage at 0x242afbb8730>"
      ]
     },
     "execution_count": 2,
     "metadata": {},
     "output_type": "execute_result"
    }
   ],
   "source": [
    "img # This is QR Code for a web link"
   ]
  },
  {
   "cell_type": "code",
   "execution_count": 6,
   "metadata": {
    "id": "un5DjxWPam0A"
   },
   "outputs": [],
   "source": [
    "fig = qrcode.make(\"My name is Deepak Kumar and India is my country.\")\n",
    "fig.save(\"Words_QRcode.jpg\")"
   ]
  },
  {
   "cell_type": "code",
   "execution_count": 7,
   "metadata": {
    "colab": {
     "base_uri": "https://localhost:8080/",
     "height": 427
    },
    "id": "dHxArohtb0H7",
    "outputId": "7c37d6d4-2ad5-4ed8-b9a1-fe9c03a0d6dc"
   },
   "outputs": [
    {
     "data": {
      "image/png": "[encoded data removed]",
      "text/plain": [
       "<qrcode.image.pil.PilImage at 0x242b0dc1e50>"
      ]
     },
     "execution_count": 7,
     "metadata": {},
     "output_type": "execute_result"
    }
   ],
   "source": [
    "fig # This is a QR Code for a sentence"
   ]
  },
  {
   "cell_type": "code",
   "execution_count": 8,
   "metadata": {
    "colab": {
     "base_uri": "https://localhost:8080/"
    },
    "id": "wtORGkhJb19h",
    "outputId": "237d49bd-19e6-4105-c0c3-40150173b8f8"
   },
   "outputs": [
    {
     "name": "stdout",
     "output_type": "stream",
     "text": [
      "Requirement already satisfied: opencv-python in c:\\users\\mum1user\\anaconda3\\lib\\site-packages (4.6.0.66)\n",
      "Requirement already satisfied: numpy>=1.17.3 in c:\\users\\mum1user\\anaconda3\\lib\\site-packages (from opencv-python) (1.21.5)\n",
      "Decoded QR text is: My name is Deepak Kumar and India is my country.\n"
     ]
    }
   ],
   "source": [
    "!pip install opencv-python\n",
    "import cv2\n",
    "\n",
    "d = cv2.QRCodeDetector()\n",
    "val, _, _ = d.detectAndDecode(cv2.imread(\"Words_QRcode.jpg\"))\n",
    "\n",
    "print(\"Decoded QR text is:\", val) # Decoding the previously generated QR Code using Computer Vision"
   ]
  }
 ],
 "metadata": {
  "colab": {
   "collapsed_sections": [],
   "name": "QR Code Generation using qrcode.ipynb",
   "provenance": []
  },
  "kernelspec": {
   "display_name": "Python 3 (ipykernel)",
   "language": "python",
   "name": "python3"
  },
  "language_info": {
   "codemirror_mode": {
    "name": "ipython",
    "version": 3
   },
   "file_extension": ".py",
   "mimetype": "text/x-python",
   "name": "python",
   "nbconvert_exporter": "python",
   "pygments_lexer": "ipython3",
   "version": "3.9.12"
  }
 },
 "nbformat": 4,
 "nbformat_minor": 1
}
